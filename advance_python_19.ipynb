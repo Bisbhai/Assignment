{
 "cells": [
  {
   "cell_type": "markdown",
   "id": "27aa794f-e3a8-4345-8535-76a39c55d634",
   "metadata": {},
   "source": [
    "Q1. Define the relationship between a class and its instances. Is it a one-to-one or a one-to-many partnership, for example?\n",
    "Ans: Relationship between a class and its instances is a one to many partnership."
   ]
  },
  {
   "cell_type": "markdown",
   "id": "fa93463f-186a-47f8-9764-29f961ba0dc8",
   "metadata": {},
   "source": [
    "Q2. What kind of data is held only in an instance?\n",
    "Ans: Instance objects contains the Instance variables which are specific to that specific Instance object.\n"
   ]
  },
  {
   "cell_type": "markdown",
   "id": "c518c97d-21e2-48b9-b585-84c2894987d6",
   "metadata": {},
   "source": [
    "Q3. What kind of knowledge is stored in a class?\n",
    "Ans: Class creates a user-defined data structure, which holds its own data members and member functions, which can be accessed and used by creating an instance of that class. A class is like a blueprint for an object."
   ]
  },
  {
   "cell_type": "markdown",
   "id": "dade2ecc-d83a-4085-a5fa-f98b6ba3f00e",
   "metadata": {},
   "source": [
    "Q4. What exactly is a method, and how is it different from a regular function?\n",
    "Ans: The methods with a class can be used to access the insatnce variables of its instance. So,the object's state can be modified by its method. Function can't access the attributes of an instance of a class or can't modify the state of the object."
   ]
  },
  {
   "cell_type": "markdown",
   "id": "8d29ba2a-ad1b-46d2-b16d-d98080c55441",
   "metadata": {},
   "source": [
    "Q5. Is inheritance supported in Python, and if so, what is the syntax?\n",
    "Ans: Yes,Python supports inheritance. The Types of Inheritence Supported by Python are:\n",
    "\n",
    "Simple Inheritence\n",
    "Multiple Inheritence\n",
    "Multilevel lInheritence\n",
    "Hybrid Inheritence\n",
    "Hierracial Inheritence\n",
    "\n",
    "\n",
    "class Person:\n",
    "    def __init__(self, fname, lname):\n",
    "        self.first_name = fname\n",
    "        self.last_name = lname\n",
    "class Student(Person):\n",
    "    pass\n",
    "     "
   ]
  },
  {
   "cell_type": "markdown",
   "id": "5cda39d8-86b9-44ff-9528-257b0a876881",
   "metadata": {},
   "source": [
    "Q6. How much encapsulation (making instance or class variables private) does Python support?\n",
    "Ans: Encapsulation describes the idea of wrapping data and the methods that work on data within one unit. This puts restrictions on accessing variables and methods directly and can prevent the accidental modification of data. To prevent accidental change, an objects variable can only be changed by an objects method."
   ]
  },
  {
   "cell_type": "markdown",
   "id": "5d976c3a-00c6-4542-a1a9-b7887daa9e65",
   "metadata": {},
   "source": [
    "Q7. How do you distinguish between a class variable and an instance variable?\n",
    "Ans: The Class Attribute is available to all the instance objects of that class. whereas Instance Attributes are accessible only to the object or Instance of that class. A single copy of Class attributes is maintained by pvm at the class level. Whereas difference copies of instance attributes are maintained by pvm at objects/instance level.\n"
   ]
  },
  {
   "cell_type": "markdown",
   "id": "288ac200-4c85-45fa-86cb-f85de292d9f7",
   "metadata": {},
   "source": [
    "Q8. When, if ever, can self be included in a class's method definitions?\n",
    "Ans: Yes, self can included in class method definations to access the instance variables inside class methods.\n"
   ]
  },
  {
   "cell_type": "markdown",
   "id": "97407d38-4c75-4e47-833f-350ffd588e22",
   "metadata": {},
   "source": [
    "Q9. What is the difference between the __add__ and the __radd__ methods?\n",
    "Ans: Entering __radd__ Python will first try __add__(), and if that returns Not Implemented Python will check if the right-hand operand implements __radd__, and if it does, it will call __radd__() rather than raising a TypeError"
   ]
  },
  {
   "cell_type": "markdown",
   "id": "f7bf45e6-0f22-429b-b325-9b5476b3c980",
   "metadata": {},
   "source": [
    "Q10. When is it necessary to use a reflection method? When do you not need it, even though you support the operation in question?\n",
    "Ans: Reflection method we often encounter the requirement that a method in the executing object, or a variable in the calling object, or a field of the object should be assigned, while the method name or field name can not be determined when encoding the code, and need to be input in the form of passing strings through parameters."
   ]
  },
  {
   "cell_type": "markdown",
   "id": "05753db0-03b0-417e-80bc-1f2ecd0190ef",
   "metadata": {},
   "source": [
    "Q11. What is the __iadd__ method called?\n",
    "Ans: __iadd__ method is called when we use implementation like a+=b which is a.__iadd__(b)\n"
   ]
  },
  {
   "cell_type": "markdown",
   "id": "0f2bfa13-5120-403e-8985-0eca110264fc",
   "metadata": {},
   "source": [
    "Q12. Is the __init__ method inherited by subclasses? What do you do if you need to customize its behavior within a subclass?\n",
    "Ans: Yes, __init__ method will be inherited by subclasses, if we want to customize its behaviour within a subclass we can use super() method."
   ]
  },
  {
   "cell_type": "code",
   "execution_count": null,
   "id": "70a24ee3-96ff-45d4-81c3-0da1d4166318",
   "metadata": {},
   "outputs": [],
   "source": []
  }
 ],
 "metadata": {
  "kernelspec": {
   "display_name": "Python 3 (ipykernel)",
   "language": "python",
   "name": "python3"
  },
  "language_info": {
   "codemirror_mode": {
    "name": "ipython",
    "version": 3
   },
   "file_extension": ".py",
   "mimetype": "text/x-python",
   "name": "python",
   "nbconvert_exporter": "python",
   "pygments_lexer": "ipython3",
   "version": "3.10.6"
  }
 },
 "nbformat": 4,
 "nbformat_minor": 5
}
