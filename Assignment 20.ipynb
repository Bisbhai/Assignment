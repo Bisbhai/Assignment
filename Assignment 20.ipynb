{
 "cells": [
  {
   "cell_type": "markdown",
   "id": "8a23f962-1433-441d-bbef-0a29ab8f87d7",
   "metadata": {},
   "source": [
    "1. Set the variable test1 to the string 'This is a test of the emergency text system,' and save test1 to a file named test.txt.\n"
   ]
  },
  {
   "cell_type": "code",
   "execution_count": 1,
   "id": "1f8fd203-196d-450a-8a1e-d7d17fc9a7d9",
   "metadata": {},
   "outputs": [],
   "source": [
    "test1='This is a test of the emergency text system,'\n",
    "with open('test.txt','w') as file:\n",
    "    file.write(test1)\n",
    "    file.close()"
   ]
  },
  {
   "cell_type": "markdown",
   "id": "1707e9a0-e8c2-48d7-b731-252619b5fa91",
   "metadata": {},
   "source": [
    "2. Read the contents of the file test.txt into the variable test2. Is there a difference between test 1 and test 2?\n"
   ]
  },
  {
   "cell_type": "code",
   "execution_count": 2,
   "id": "3e1f3302-5d7a-436b-8c74-3de67bff395e",
   "metadata": {},
   "outputs": [
    {
     "name": "stdout",
     "output_type": "stream",
     "text": [
      "This is a test of the emergency text system,\n",
      "This is a test of the emergency text system,\n"
     ]
    }
   ],
   "source": [
    "with open('test.txt','r') as file:\n",
    "    test2=file.read()\n",
    "    print(test2)\n",
    "    print(test1)"
   ]
  },
  {
   "cell_type": "markdown",
   "id": "228a9de1-c2f1-478e-a96e-2b3d991da267",
   "metadata": {},
   "source": [
    "No difference."
   ]
  },
  {
   "cell_type": "markdown",
   "id": "fc26aab6-35ca-405f-90a8-53cf9b4da925",
   "metadata": {},
   "source": [
    "3. Create a CSV file called books.csv by using these lines:\n",
    "title,author,year\n",
    "The Weirdstone of Brisingamen,Alan Garner,1960\n",
    "Perdido Street Station,China Miéville,2000\n",
    "Thud!,Terry Pratchett,2005\n",
    "The Spellman Files,Lisa Lutz,2007\n",
    "Small Gods,Terry Pratchett,1992\n",
    "\n"
   ]
  },
  {
   "cell_type": "code",
   "execution_count": 3,
   "id": "3a71f8f1-3a75-4f84-bd41-c7955a72e630",
   "metadata": {},
   "outputs": [],
   "source": [
    "data='''title,author,year\n",
    "The Weirdstone of Brisingamen,Alan Garner,1960\n",
    "Perdido Street Station,China Miéville,2000\n",
    "Thud!,Terry Pratchett,2005\n",
    "The Spellman Files,Lisa Lutz,2007\n",
    "Small Gods,Terry Pratchett,1992'''\n",
    "\n",
    "with open('books.csv','w') as file:\n",
    "    file.write(data)"
   ]
  },
  {
   "cell_type": "markdown",
   "id": "988e8901-e7a8-4799-a521-811c7979df7d",
   "metadata": {},
   "source": [
    "4. Use the sqlite3 module to create a SQLite database called books.db, and a table called books with these fields: title (text), author (text), and year (integer).\n"
   ]
  },
  {
   "cell_type": "code",
   "execution_count": 4,
   "id": "62520782-2567-4b8a-8b32-8b0e92720e0b",
   "metadata": {},
   "outputs": [],
   "source": [
    "import sqlite3\n",
    "db = sqlite3.connect('Books.db')\n",
    "cr = db.cursor()\n",
    "cr.execute(\"CREATE TABLE if not exists Book (title text, author text, year int)\")\n",
    "db.commit()\n",
    "db.close()"
   ]
  },
  {
   "cell_type": "markdown",
   "id": "4166e7ea-c0e9-4399-b528-84f7343752e6",
   "metadata": {},
   "source": [
    "5. Read books.csv and insert its data into the book table.\n"
   ]
  },
  {
   "cell_type": "code",
   "execution_count": 5,
   "id": "feacc7a9-cada-46cb-8bf7-225fafaedcfa",
   "metadata": {},
   "outputs": [],
   "source": [
    "import sqlite3\n",
    "import csv\n",
    "db = sqlite3.connect(\"Books.db\")\n",
    "cr = db.cursor()\n",
    "with open(\"books.csv\",\"r\") as file:\n",
    "    Book = csv.DictReader(file)\n",
    "    for book in Book:\n",
    "        cr.execute(\"INSERT INTO Book VALUES (?,?,?)\",(book['title'],book['author'],book['year']))\n",
    "db.commit()\n",
    "db.close()"
   ]
  },
  {
   "cell_type": "markdown",
   "id": "6faef457-7500-4933-b44e-b7e91df0942b",
   "metadata": {},
   "source": [
    "6. Select and print the title column from the book table in alphabetical order.\n"
   ]
  },
  {
   "cell_type": "code",
   "execution_count": 6,
   "id": "0a6382d5-108a-474b-a496-21a4209cc223",
   "metadata": {},
   "outputs": [
    {
     "name": "stdout",
     "output_type": "stream",
     "text": [
      "Perdido Street Station\n",
      "Small Gods\n",
      "The Spellman Files\n",
      "The Weirdstone of Brisingamen\n",
      "Thud!\n"
     ]
    }
   ],
   "source": [
    "import sqlite3\n",
    "db = sqlite3.connect('Books.db')\n",
    "cr = db.cursor()\n",
    "output = cr.execute(\"SELECT title FROM Book ORDER BY title ASC\")\n",
    "for i in output:\n",
    "    print(i[0])\n",
    "db.commit()\n",
    "db.close()"
   ]
  },
  {
   "cell_type": "markdown",
   "id": "72790bd6-1aec-4753-bb22-927692f0bb20",
   "metadata": {},
   "source": [
    "7. From the book table, select and print all columns in the order of publication.\n"
   ]
  },
  {
   "cell_type": "code",
   "execution_count": 7,
   "id": "d0521588-0ea1-4050-a6df-d9173f36d53c",
   "metadata": {},
   "outputs": [
    {
     "name": "stdout",
     "output_type": "stream",
     "text": [
      "('The Weirdstone of Brisingamen', 'Alan Garner', 1960)\n",
      "('Small Gods', 'Terry Pratchett', 1992)\n",
      "('Perdido Street Station', 'China Miéville', 2000)\n",
      "('Thud!', 'Terry Pratchett', 2005)\n",
      "('The Spellman Files', 'Lisa Lutz', 2007)\n"
     ]
    }
   ],
   "source": [
    "import sqlite3\n",
    "db = sqlite3.connect('Books.db')\n",
    "cr = db.cursor()\n",
    "ouput = cr.execute(\"SELECT * FROM Book ORDER BY year\")\n",
    "for record in ouput:\n",
    "    print(record)"
   ]
  },
  {
   "cell_type": "markdown",
   "id": "2c6f9662-356f-4952-9484-eb512b7ffd54",
   "metadata": {},
   "source": [
    "8. Use the sqlalchemy module to connect to the sqlite3 database books.db that you just made in exercise 6.\n"
   ]
  },
  {
   "cell_type": "code",
   "execution_count": 8,
   "id": "a80eaa17-47c4-41dd-ad45-cc28adcd88cb",
   "metadata": {},
   "outputs": [
    {
     "data": {
      "text/plain": [
       "Engine(sqlite:///Books.db)"
      ]
     },
     "execution_count": 8,
     "metadata": {},
     "output_type": "execute_result"
    }
   ],
   "source": [
    "import sqlalchemy\n",
    "conn = sqlalchemy.create_engine('sqlite:///Books.db')\n",
    "conn"
   ]
  },
  {
   "cell_type": "markdown",
   "id": "23b3493f-cc3b-4447-b442-451763d99976",
   "metadata": {},
   "source": [
    "9. Install the Redis server and the Python redis library (pip install redis) on your computer. Create a Redis hash called test with the fields count (1) and name ('Fester Bestertester'). Print all the fields for test.\n"
   ]
  },
  {
   "cell_type": "code",
   "execution_count": 11,
   "id": "177be45f-eaea-46e2-ba9e-592437a02ee3",
   "metadata": {},
   "outputs": [
    {
     "name": "stdout",
     "output_type": "stream",
     "text": [
      "Requirement already satisfied: redis in /opt/conda/lib/python3.10/site-packages (4.4.0)\n",
      "Requirement already satisfied: async-timeout>=4.0.2 in /opt/conda/lib/python3.10/site-packages (from redis) (4.0.2)\n",
      "Note: you may need to restart the kernel to use updated packages.\n"
     ]
    }
   ],
   "source": [
    "pip install redis"
   ]
  },
  {
   "cell_type": "code",
   "execution_count": null,
   "id": "74928d22-c0c9-4595-b2f7-46406d6cb81e",
   "metadata": {},
   "outputs": [],
   "source": [
    "import redis\n",
    "conn = redis.Redis()\n",
    "conn.hset('test',{ 'count':1,'name':'Fester Bestertester'})\n",
    "conn.hgetall('test')"
   ]
  },
  {
   "cell_type": "markdown",
   "id": "e60641b5-96ae-4520-903d-da44b7eac804",
   "metadata": {},
   "source": [
    "10. Increment the count field of test and print it.\n"
   ]
  },
  {
   "cell_type": "code",
   "execution_count": null,
   "id": "589a2916-4af7-4f60-88a0-e3643ac62af2",
   "metadata": {},
   "outputs": [],
   "source": [
    "conn.hincrby('test', 'count', 1)\n",
    "conn.hget('test', 'count')"
   ]
  }
 ],
 "metadata": {
  "kernelspec": {
   "display_name": "Python 3 (ipykernel)",
   "language": "python",
   "name": "python3"
  },
  "language_info": {
   "codemirror_mode": {
    "name": "ipython",
    "version": 3
   },
   "file_extension": ".py",
   "mimetype": "text/x-python",
   "name": "python",
   "nbconvert_exporter": "python",
   "pygments_lexer": "ipython3",
   "version": "3.10.6"
  }
 },
 "nbformat": 4,
 "nbformat_minor": 5
}
