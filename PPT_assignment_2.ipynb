{
 "cells": [
  {
   "cell_type": "markdown",
   "id": "dc9bb790-3e35-43d0-805a-579bb2af6cbe",
   "metadata": {},
   "source": [
    " **Question 1** Given an integer array nums of 2n integers, group these integers into n pairs (a1, b1), (a2, b2),..., (an, bn) such that the sum of min(ai, bi) for all i is maximized. Return the maximized sum.\n",
    "Example 1: Input: nums = [1,4,3,2] Output: 4\n",
    "\n",
    "Explanation: All possible pairings (ignoring the ordering of elements) are:\n",
    "\n",
    "(1, 4), (2, 3) -> min(1, 4) + min(2, 3) = 1 + 2 = 3\n",
    "(1, 3), (2, 4) -> min(1, 3) + min(2, 4) = 1 + 2 = 3\n",
    "(1, 2), (3, 4) -> min(1, 2) + min(3, 4) = 1 + 3 = 4\n",
    "So the maximum possible sum is 4"
   ]
  },
  {
   "cell_type": "code",
   "execution_count": 1,
   "id": "69480b3f-8dad-41e8-b966-96db99c09720",
   "metadata": {},
   "outputs": [
    {
     "data": {
      "text/plain": [
       "4"
      ]
     },
     "execution_count": 1,
     "metadata": {},
     "output_type": "execute_result"
    }
   ],
   "source": [
    "\n",
    "def solution(num:list):\n",
    "   nums_sort = sorted(num)\n",
    "   res = 0\n",
    "   i = 0\n",
    "   while i < len(num):\n",
    "       res += nums_sort[i]\n",
    "       i += 2\n",
    "   return res\n",
    " \n",
    "solution([1,4,3,2])    "
   ]
  },
  {
   "cell_type": "markdown",
   "id": "80a350e1-53e9-4145-8809-fcefccd79701",
   "metadata": {},
   "source": [
    "Question 2 Alice has n candies, where the ith candy is of type candyType[i]. Alice noticed that she started to gain weight, so she visited a doctor.\n",
    "\n",
    "The doctor advised Alice to only eat n / 2 of the candies she has (n is always even). Alice likes her candies very much, and she wants to eat the maximum number of different types of candies while still following the doctor's advice.\n",
    "\n",
    "Given the integer array candyType of length n, return the maximum number of different types of candies she can eat if she only eats n / 2 of them.\n",
    "\n",
    "Example 1: Input: candyType = [1,1,2,2,3,3] Output: 3\n",
    "\n",
    "Explanation: Alice can only eat 6 / 2 = 3 candies. Since there are only 3 types, she can eat one of each type."
   ]
  },
  {
   "cell_type": "code",
   "execution_count": 2,
   "id": "60b70f32-9980-4c8f-8427-e161054bcac5",
   "metadata": {},
   "outputs": [
    {
     "data": {
      "text/plain": [
       "3"
      ]
     },
     "execution_count": 2,
     "metadata": {},
     "output_type": "execute_result"
    }
   ],
   "source": [
    "def solution(candyType:list):\n",
    "  n=0\n",
    "  out_num = set(candyType)\n",
    "  for i in out_num:\n",
    "    n+=1\n",
    "  return n\n",
    "\n",
    "solution([1,1,2,2,3,3])   "
   ]
  },
  {
   "cell_type": "markdown",
   "id": "12deb90c-bbc1-449f-bc03-a298906e4188",
   "metadata": {},
   "source": [
    "Question 3 We define a harmonious array as an array where the difference between its maximum value and its minimum value is exactly 1.\n",
    "\n",
    "Given an integer array nums, return the length of its longest harmonious subsequence among all its possible subsequences.\n",
    "\n",
    "A subsequence of an array is a sequence that can be derived from the array by deleting some or no elements without changing the order of the remaining elements.\n",
    "\n",
    "Example 1: Input: nums = [1,3,2,2,5,2,3,7] Output: 5\n",
    "\n",
    "Explanation: The longest harmonious subsequence is [3,2,2,2,3]."
   ]
  },
  {
   "cell_type": "code",
   "execution_count": 3,
   "id": "61a8118c-1e08-40d5-bad7-0828c6aa19cd",
   "metadata": {},
   "outputs": [
    {
     "data": {
      "text/plain": [
       "5"
      ]
     },
     "execution_count": 3,
     "metadata": {},
     "output_type": "execute_result"
    }
   ],
   "source": [
    "\n",
    "def solution(num:list):\n",
    "        d, a = {}, 0\n",
    "        for i in num:\n",
    "            if i not in d: \n",
    "              d[i] = 1\n",
    "            else: \n",
    "              d[i] += 1\n",
    "        for i in d:\n",
    "            if i + 1 in d.keys():\n",
    "                a = max(a, d[i] + d[i+1])\n",
    "        return a\n",
    "\n",
    "solution([1,3,2,2,5,2,3,7])\n",
    "     "
   ]
  },
  {
   "cell_type": "markdown",
   "id": "7815e0bb-bb6c-4be7-81a4-7ae067721f73",
   "metadata": {},
   "source": [
    "Question 4 You have a long flowerbed in which some of the plots are planted, and some are not. However, flowers cannot be planted in adjacent plots. Given an integer array flowerbed containing 0's and 1's, where 0 means empty and 1 means not empty, and an integer n, return true if n new flowers can be planted in the flowerbed without violating the no-adjacent-flowers rule and false otherwise.\n",
    "\n",
    "Example 1: Input: flowerbed = [1,0,0,0,1], n = 1 Output: true"
   ]
  },
  {
   "cell_type": "code",
   "execution_count": 4,
   "id": "7018ce24-4c8b-4c1e-85de-98b2c3c2a5bc",
   "metadata": {},
   "outputs": [
    {
     "data": {
      "text/plain": [
       "True"
      ]
     },
     "execution_count": 4,
     "metadata": {},
     "output_type": "execute_result"
    }
   ],
   "source": [
    "def solution(num:list,n:int):\n",
    "        if n == 0:\n",
    "            return True\n",
    "        for i in range(len(num)):\n",
    "            if num[i] == 0 and (i == 0 or num[i-1] == 0) and (i == len(num)-1 or num[i+1] == 0):\n",
    "                num[i] = 1\n",
    "                n -= 1\n",
    "                if n == 0:\n",
    "                    return True\n",
    "        return False\n",
    "\n",
    "solution([1,0,0,0,1],1)"
   ]
  },
  {
   "cell_type": "markdown",
   "id": "73010780-84dc-4d51-9afe-f6d9343d9a42",
   "metadata": {},
   "source": [
    "Question 5 Given an integer array nums, find three numbers whose product is maximum and return the maximum product.\n",
    "\n",
    "Example 1: Input: nums = [1,2,3] Output: 6\n",
    "\n"
   ]
  },
  {
   "cell_type": "code",
   "execution_count": 6,
   "id": "4613670c-8181-4719-ad6d-eacb2ec2e323",
   "metadata": {},
   "outputs": [
    {
     "data": {
      "text/plain": [
       "6"
      ]
     },
     "execution_count": 6,
     "metadata": {},
     "output_type": "execute_result"
    }
   ],
   "source": [
    "def solution(num:list):\n",
    "  l=[]\n",
    "  res=1\n",
    "  for i in range(3):\n",
    "    m=max(num)\n",
    "    num.remove(max(num))\n",
    "    l.append(m)\n",
    "  for n in l:\n",
    "    res=n*res\n",
    "  return res\n",
    "\n",
    "solution([1,2,3])  \n",
    "     "
   ]
  },
  {
   "cell_type": "markdown",
   "id": "719f6cc7-224e-400e-b64d-f9afd6460d8c",
   "metadata": {},
   "source": [
    "Question 6 Given an array of integers nums which is sorted in ascending order, and an integer target, write a function to search target in nums. If target exists, then return its index. Otherwise, return -1.\n",
    "\n",
    "You must write an algorithm with O(log n) runtime complexity.\n",
    "\n",
    "Input: nums = [-1,0,3,5,9,12], target = 9 Output: 4\n",
    "\n",
    "Explanation: 9 exists in nums and its index is 4"
   ]
  },
  {
   "cell_type": "code",
   "execution_count": 7,
   "id": "acd022d3-f21a-425b-ab4b-e16c2daea6c0",
   "metadata": {},
   "outputs": [
    {
     "data": {
      "text/plain": [
       "4"
      ]
     },
     "execution_count": 7,
     "metadata": {},
     "output_type": "execute_result"
    }
   ],
   "source": [
    "\n",
    "def solution(num:list,target:int):\n",
    "  if target in num:\n",
    "    for i in range(len(num)):\n",
    "      if num[i]==target:\n",
    "        return i\n",
    "  else:\n",
    "    return -1\n",
    "\n",
    "solution([-1,0,3,5,9,12],9)          \n"
   ]
  },
  {
   "cell_type": "markdown",
   "id": "ebac604c-0cab-4e89-84ed-09f10f3ea845",
   "metadata": {},
   "source": [
    "Question 7 An array is monotonic if it is either monotone increasing or monotone decreasing.\n",
    "\n",
    "An array nums is monotone increasing if for all i <= j, nums[i] <= nums[j]. An array nums is monotone decreasing if for all i <= j, nums[i] >= nums[j].\n",
    "\n",
    "Given an integer array nums, return true if the given array is monotonic, or false otherwise.\n",
    "\n",
    "Example 1: Input: nums = [1,2,2,3] Output: true"
   ]
  },
  {
   "cell_type": "code",
   "execution_count": 8,
   "id": "3d25036c-41fa-461c-99e6-be05b947c1fc",
   "metadata": {},
   "outputs": [
    {
     "data": {
      "text/plain": [
       "True"
      ]
     },
     "execution_count": 8,
     "metadata": {},
     "output_type": "execute_result"
    }
   ],
   "source": [
    "def solution(num:list):\n",
    "  n=0\n",
    "  m=0\n",
    "  res=0\n",
    "  for i in range(len(num)):\n",
    "    if res<=num[i]:\n",
    "      n+=1\n",
    "    elif res>=num[i]:\n",
    "      m+=1\n",
    "    res=num[i]\n",
    "      \n",
    "  if n==len(num):\n",
    "    return True\n",
    "  if m==len(num):\n",
    "    return True      \n",
    "  return False\n",
    "\n",
    "solution([1,2,2,3])  "
   ]
  },
  {
   "cell_type": "code",
   "execution_count": null,
   "id": "d7cd3222-11c6-4893-98bd-8cc803c7d130",
   "metadata": {},
   "outputs": [],
   "source": []
  }
 ],
 "metadata": {
  "kernelspec": {
   "display_name": "Python 3 (ipykernel)",
   "language": "python",
   "name": "python3"
  },
  "language_info": {
   "codemirror_mode": {
    "name": "ipython",
    "version": 3
   },
   "file_extension": ".py",
   "mimetype": "text/x-python",
   "name": "python",
   "nbconvert_exporter": "python",
   "pygments_lexer": "ipython3",
   "version": "3.10.6"
  }
 },
 "nbformat": 4,
 "nbformat_minor": 5
}
