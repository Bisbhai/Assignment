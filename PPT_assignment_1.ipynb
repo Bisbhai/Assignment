{
 "cells": [
  {
   "cell_type": "markdown",
   "id": "87f31452-700d-4b29-a51f-7fda11562874",
   "metadata": {},
   "source": [
    "Q1.Given an array of integers nums and an integer target, return indices of the two numbers such that they add up to target.\n",
    "\n",
    "You may assume that each input would have exactly one solution, and you may not use the same element twice.\n",
    "\n",
    "You can return the answer in any order.\n",
    "\n",
    "Example: Input: nums = [2,7,11,15], target = 9 Output0 [0,1]\n",
    "\n",
    "Explanation: Because nums[0] + nums[1] == 9, we return [0, 1][\n",
    "\n"
   ]
  },
  {
   "cell_type": "code",
   "execution_count": 1,
   "id": "4c76b076-aa44-48b0-94e9-c5650eef7812",
   "metadata": {},
   "outputs": [
    {
     "name": "stdout",
     "output_type": "stream",
     "text": [
      "num0 + num1 == 9 [0,1]\n",
      "num0 + num3 == 10 [0,3]\n"
     ]
    }
   ],
   "source": [
    "\n",
    "def add_target(num:list , target:int):\n",
    "  ind1=int\n",
    "  ind2=int\n",
    "  for i in range(len(num)):\n",
    "    for j in range(len(num)):\n",
    "       if (num[i]+num[j]==target and i != j):\n",
    "         ind1=j\n",
    "         ind2=i\n",
    "  print(f'num{ind1} + num{ind2} == {target} [{ind1},{ind2}]')       \n",
    "\n",
    "add_target([2,7,11,15], 9) \n",
    "add_target([5,1,3,5,6],10)  "
   ]
  },
  {
   "cell_type": "markdown",
   "id": "92167104-23a6-42af-a07e-88192c56e01a",
   "metadata": {},
   "source": [
    "**Q2.** Given an integer array nums and an integer val, remove all occurrences of val in nums in-place. The order of the elements may be changed. Then return the number of elements in nums which are not equal to val.\n",
    "Consider the number of elements in nums which are not equal to val be k, to get accepted, you need to do the following things:\n",
    "\n",
    "Change the array nums such that the first k elements of nums contain the elements which are not equal to val. The remaining elements of nums are not important as well as the size of nums.\n",
    "Return k.\n",
    "Example : Input: nums = [3,2,2,3], val = 3 Output: 2, nums = [2,2,,']\n",
    "\n",
    "Explanation: Your function should return k = 2, with the first two elements of nums being 2. It does not matter what you leave beyond the returned k (hence they are underscores)["
   ]
  },
  {
   "cell_type": "code",
   "execution_count": 2,
   "id": "52edee0d-3b78-47c3-aeb2-6ac46b82289c",
   "metadata": {},
   "outputs": [
    {
     "name": "stdout",
     "output_type": "stream",
     "text": [
      "Output: 2, nums = [2, 2, '_', '_']\n"
     ]
    }
   ],
   "source": [
    "\n",
    "def remove_val(num:list , val:int):\n",
    "  out_num=[]\n",
    "  k=0\n",
    "  for i in num:\n",
    "    if i!=val:\n",
    "      out_num.append(i)\n",
    "      k+=1\n",
    "  list_diff = len(num)-len(out_num)    \n",
    "  for j in range(list_diff):\n",
    "    out_num.append('_')\n",
    "  print(f\"Output: {k}, nums = {out_num}\")\n",
    "\n",
    "remove_val([3,2,2,3], 3)   "
   ]
  },
  {
   "cell_type": "markdown",
   "id": "e115601d-32b6-44ff-a54b-31c5041b5730",
   "metadata": {},
   "source": [
    "**Q3.** Given a sorted array of distinct integers and a target value, return the index if the target is found. If not, return the index where it would be if it were inserted in order.\n",
    "You must write an algorithm with O(log n) runtime complexity.\n",
    "\n",
    "Example 1: Input: nums = [1,3,5,6], target = 5\n",
    "\n",
    "Output: 2"
   ]
  },
  {
   "cell_type": "code",
   "execution_count": 13,
   "id": "607b860d-4a0c-4fea-821b-2442de870a5e",
   "metadata": {},
   "outputs": [],
   "source": [
    "class Solution(object):\n",
    "    def searchInsert(self, nums, target):\n",
    "        \"\"\"\n",
    "        :type nums: List[int]\n",
    "        :type target: int\n",
    "        :rtype: int\n",
    "        \"\"\"\n",
    "        # Last and First indexes\n",
    "        start = 0\n",
    "        end = len(nums) - 1\n",
    "        \n",
    "        # Traverse an array\n",
    "        while (start <= end):\n",
    "            \n",
    "            mid = (start + end)/2\n",
    "             \n",
    "            # if target value found.\n",
    "            if nums[mid] == target:\n",
    "                return mid\n",
    "            \n",
    "            # If target value is greater then mid elements's value\n",
    "            elif target > nums[mid]:\n",
    "                start = mid + 1\n",
    "                \n",
    "            # otherwise target value is less, \n",
    "            else:\n",
    "                end = mid -1\n",
    "        # Return the insertion position\n",
    "        return end + 1"
   ]
  },
  {
   "cell_type": "markdown",
   "id": "a8629473-712c-455d-977b-a9a0cf0a69ea",
   "metadata": {},
   "source": [
    "**Q4.** You are given a large integer represented as an integer array digits, where each digits[i] is the ith digit of the integer. The digits are ordered from most significant to least significant in left-to-right order. The large integer does not contain any leading 0's.\n",
    "Increment the large integer by one and return the resulting array of digits.\n",
    "\n",
    "Example 1: Input: digits = [1,2,3] Output: [1,2,4]\n",
    "\n",
    "Explanation: The array represents the integer 123.\n",
    "\n",
    "Incrementing by one gives 123 + 1 = 124. Thus, the result should be [1,2,4]."
   ]
  },
  {
   "cell_type": "markdown",
   "id": "2ae525f3-f0e9-4ebd-887e-27b5357d9afa",
   "metadata": {},
   "source": [
    "**Q5.** You are given two integer arrays nums1 and nums2, sorted in non-decreasing order, and two integers m and n, representing the number of elements in nums1 and nums2 respectively.\n",
    "Merge nums1 and nums2 into a single array sorted in non-decreasing order.\n",
    "\n",
    "The final sorted array should not be returned by the function, but instead be stored inside the array nums1. To accommodate this, nums1 has a length of m + n, where the first m elements denote the elements that should be merged, and the last n elements are set to 0 and should be ignored. nums2 has a length of n.\n",
    "\n",
    "Example 1: Input: nums1 = [1,2,3,0,0,0], m = 3, nums2 = [2,5,6], n = 3 Output: [1,2,2,3,5,6]\n",
    "\n",
    "Explanation: The arrays we are merging are [1,2,3] and [2,5,6]. The result of the merge is [1,2,2,3,5,6] with the underlined elements coming from nums1."
   ]
  },
  {
   "cell_type": "code",
   "execution_count": 9,
   "id": "45aeb285-bc0d-457c-814d-d1ee63eb2616",
   "metadata": {},
   "outputs": [
    {
     "data": {
      "text/plain": [
       "[1, 2, 2, 3, 5, 6]"
      ]
     },
     "execution_count": 9,
     "metadata": {},
     "output_type": "execute_result"
    }
   ],
   "source": [
    "\n",
    "def solution(nums1: list, m: int, nums2: list, n: int):\n",
    "    for i in range(m,m+n):\n",
    "        nums1[i]=nums2[i-m]\n",
    "    nums1.sort()\n",
    "    return nums1\n",
    "\n",
    "solution([1,2,3,0,0,0],3,[2,5,6],3)   "
   ]
  },
  {
   "cell_type": "markdown",
   "id": "bd80b736-4a82-4ce9-992f-8db0d4b28af7",
   "metadata": {},
   "source": [
    " **Q6.** Given an integer array nums, return true if any value appears at least twice in the array, and return false if every element is distinct.\n",
    "Example 1: Input: nums = [1,2,3,1]\n",
    "\n",
    "Output: true"
   ]
  },
  {
   "cell_type": "code",
   "execution_count": 10,
   "id": "fecde1fa-b733-4971-8daf-c1a18b6df04c",
   "metadata": {},
   "outputs": [
    {
     "data": {
      "text/plain": [
       "True"
      ]
     },
     "execution_count": 10,
     "metadata": {},
     "output_type": "execute_result"
    }
   ],
   "source": [
    "\n",
    "def solution(num:list):\n",
    "  n=0\n",
    "  for i in num:\n",
    "    n=num.count(i)\n",
    "    if n>=2:\n",
    "      return True\n",
    "  return False\n",
    "\n",
    "solution([1,2,3,1])      \n"
   ]
  },
  {
   "cell_type": "markdown",
   "id": "79a41d0b-2dec-41db-b26a-442abb873e9a",
   "metadata": {},
   "source": [
    " **Q7.** Given an integer array nums, move all 0's to the end of it while maintaining the relative order of the nonzero elements.\n",
    "Note that you must do this in-place without making a copy of the array.\n",
    "\n",
    "Example 1: Input: nums = [0,1,0,3,12] Output: [1,3,12,0,0]"
   ]
  },
  {
   "cell_type": "code",
   "execution_count": 11,
   "id": "5160e54c-81b9-4be6-891d-b877a4b442e2",
   "metadata": {},
   "outputs": [
    {
     "data": {
      "text/plain": [
       "[1, 3, 12, 0, 0]"
      ]
     },
     "execution_count": 11,
     "metadata": {},
     "output_type": "execute_result"
    }
   ],
   "source": [
    "def solution(num:list):\n",
    "  out_num=[]\n",
    "  n=0\n",
    "  for i in num:\n",
    "    if i!= 0:\n",
    "      out_num.append(i)\n",
    "    else: \n",
    "      n+=1\n",
    "  for j in range(n):   \n",
    "    out_num.append(0)\n",
    "  return out_num\n",
    "\n",
    "solution([0,1,0,3,12])    "
   ]
  },
  {
   "cell_type": "markdown",
   "id": "17f2ed00-069d-4194-9532-bbd60e18e60d",
   "metadata": {},
   "source": [
    " **Q8.** You have a set of integers s, which originally contains all the numbers from 1 to n. Unfortunately, due to some error, one of the numbers in s got duplicated to another number in the set, which results in repetition of one number and loss of another number.\n",
    "You are given an integer array nums representing the data status of this set after the error.\n",
    "\n",
    "Find the number that occurs twice and the number that is missing and return them in the form of an array.\n",
    "\n",
    "Example 1: Input: nums = [1,2,2,4] Output: [2,3]"
   ]
  },
  {
   "cell_type": "code",
   "execution_count": 12,
   "id": "7d09fa53-b251-4532-8979-0b9408eafcb7",
   "metadata": {},
   "outputs": [
    {
     "data": {
      "text/plain": [
       "[2, 3]"
      ]
     },
     "execution_count": 12,
     "metadata": {},
     "output_type": "execute_result"
    }
   ],
   "source": [
    "def solution(s:list):\n",
    "  n=1\n",
    "  res=[]\n",
    "  for i in s:\n",
    "    if i!=n:\n",
    "      res.append(i)\n",
    "      res.append(n)\n",
    "    n+=1\n",
    "  return res    \n",
    "\n",
    "solution([1,2,2,4])  \n",
    "     "
   ]
  },
  {
   "cell_type": "code",
   "execution_count": null,
   "id": "b814b46d-8675-4cf8-9f97-119d98577ea1",
   "metadata": {},
   "outputs": [],
   "source": []
  }
 ],
 "metadata": {
  "kernelspec": {
   "display_name": "Python 3 (ipykernel)",
   "language": "python",
   "name": "python3"
  },
  "language_info": {
   "codemirror_mode": {
    "name": "ipython",
    "version": 3
   },
   "file_extension": ".py",
   "mimetype": "text/x-python",
   "name": "python",
   "nbconvert_exporter": "python",
   "pygments_lexer": "ipython3",
   "version": "3.10.6"
  }
 },
 "nbformat": 4,
 "nbformat_minor": 5
}
