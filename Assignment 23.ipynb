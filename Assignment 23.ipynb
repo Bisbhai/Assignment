{
 "cells": [
  {
   "cell_type": "markdown",
   "id": "05500f85-6ecb-4365-882a-8699fa641b84",
   "metadata": {},
   "source": [
    "1. What is the result of the code, and why?\n",
    ">>> def func(a, b=6, c=8):\n",
    "print(a, b, c)\n",
    ">>> func(1, 2)\n",
    "\n",
    "Ans: The result of the above code is 1 2 8, its because the function uses the default value of c i.e. 8 which is provided at the time of declaration."
   ]
  },
  {
   "cell_type": "markdown",
   "id": "e7d51e45-db47-4114-b995-1c0f577277f7",
   "metadata": {},
   "source": [
    "2. What is the result of this code, and why?\n",
    ">>> def func(a, b, c=5):\n",
    "\n",
    "print(a, b, c)\n",
    "\n",
    ">>> func(1, c=3, b=2)\n",
    "\n",
    "Ans: The result of the above code is 1 2 3, it is because the function will use default values only when the value for an argument is not provided and if argument name is mentioned while doing a function call, the order of arguments is also ignored by the python interpreter."
   ]
  },
  {
   "cell_type": "markdown",
   "id": "ebe9d096-8468-423d-bd9d-5499c15cde27",
   "metadata": {},
   "source": [
    "3. How about this code: what is its result, and why?\n",
    ">>> def func(a, *pargs):\n",
    "\n",
    "print(a, pargs)\n",
    "\n",
    ">>> func(1, 2, 3)\n",
    "\n",
    "Ans: The result of the code is 1 (2,3). *pargs stands for variable length arguments. This format is used when we are not sure about the no. of arguments to be passed to a function. All the values under this argument will be stored in a tuple."
   ]
  },
  {
   "cell_type": "markdown",
   "id": "d037b682-529b-4aa5-aa09-af03e176cbca",
   "metadata": {},
   "source": [
    "4. What does this code print, and why?\n",
    ">>> def func(a, **kargs):\n",
    "\n",
    "print(a, kargs)\n",
    "\n",
    ">>> func(a=1, c=3, b=2)\n",
    "\n",
    "Ans: The result of the above code is 1 {'c': 3, 'b': 2}. **kargs stands for variable length keyword arguments. This format is used when we want to pass key value pairs as input to a function. All these key value pairs will be stored in a dictionary form."
   ]
  },
  {
   "cell_type": "markdown",
   "id": "96dfad57-1168-4ec2-970c-41e5bb114474",
   "metadata": {},
   "source": [
    "5. What gets printed by this, and explain?\n",
    ">>> def func(a, b, c=8, d=5):\n",
    "\n",
    "print(a, b, c, d)\n",
    "\n",
    ">>> func(1, *(5, 6))\n",
    "\n",
    "Ans: The output of the above is 1 5 6 5. The reason for this function not throwing an error is because, this function expects 4 arguments. The value for argument a is provided explicitly whereas for arguments b and c, the function will expand the *(5,6) and consider the value of b as 5 and value of c as 6. Since the default value of d is provided in function declaration d value will be 5. However it is recommended to use the feature of positional arguments at the end."
   ]
  },
  {
   "cell_type": "markdown",
   "id": "2aae0e75-593e-4cdb-b729-e4e8cf3c9812",
   "metadata": {},
   "source": [
    "6. what is the result of this, and explain?\n",
    ">>> def func(a, b, c): a = 2; b[0] = 'x'; c['a'] = 'y'\n",
    "\n",
    ">>> l=1; m=[1]; n={'a':0}\n",
    "\n",
    ">>> func(l, m, n)\n",
    "\n",
    ">>> l, m, n\n",
    "\n",
    "Ans: The output of above code is 1, ['x'], {'a': 'y'}. Eventhough Python gives importance to indentation, its provides a facility to declare an entire function in one single line, where statements in a function body are sepereated by ; . When l,m,n are provided as inputs to the function, it modifies the values of m,n and sets the value of m=['x'] and n={'a':'y'}. l=1 as it is because l is immutable but m and n are mutable."
   ]
  }
 ],
 "metadata": {
  "kernelspec": {
   "display_name": "Python 3 (ipykernel)",
   "language": "python",
   "name": "python3"
  },
  "language_info": {
   "codemirror_mode": {
    "name": "ipython",
    "version": 3
   },
   "file_extension": ".py",
   "mimetype": "text/x-python",
   "name": "python",
   "nbconvert_exporter": "python",
   "pygments_lexer": "ipython3",
   "version": "3.10.6"
  }
 },
 "nbformat": 4,
 "nbformat_minor": 5
}
